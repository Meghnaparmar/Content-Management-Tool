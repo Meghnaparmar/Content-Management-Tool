{
  "nbformat": 4,
  "nbformat_minor": 0,
  "metadata": {
    "colab": {
      "provenance": [],
      "authorship_tag": "ABX9TyMa8le9+99skcNTY9c5sQ6Q",
      "include_colab_link": true
    },
    "kernelspec": {
      "name": "python3",
      "display_name": "Python 3"
    },
    "language_info": {
      "name": "python"
    }
  },
  "cells": [
    {
      "cell_type": "markdown",
      "metadata": {
        "id": "view-in-github",
        "colab_type": "text"
      },
      "source": [
        "<a href=\"https://colab.research.google.com/github/Meghnaparmar/Content-Management-Tool/blob/main/Untitled7.ipynb\" target=\"_parent\"><img src=\"https://colab.research.google.com/assets/colab-badge.svg\" alt=\"Open In Colab\"/></a>"
      ]
    },
    {
      "cell_type": "code",
      "source": [
        "# Find the length of a given string without using the len() function\n",
        "\n",
        "s = input('Enter the string')\n",
        "counter = 0\n",
        "for i in s:\n",
        "  counter += 1\n",
        "  print('length of string is',counter)"
      ],
      "metadata": {
        "colab": {
          "base_uri": "https://localhost:8080/"
        },
        "id": "6ca8QhAlQDcN",
        "outputId": "ff66e175-1c04-47be-debf-adb0df09bfa1"
      },
      "execution_count": 1,
      "outputs": [
        {
          "output_type": "stream",
          "name": "stdout",
          "text": [
            "Enter the stringmeghna\n",
            "length of string is 1\n",
            "length of string is 2\n",
            "length of string is 3\n",
            "length of string is 4\n",
            "length of string is 5\n",
            "length of string is 6\n"
          ]
        }
      ]
    },
    {
      "cell_type": "code",
      "source": [
        "# Extract username from a given email.\n",
        "# Eg if the email is thakurmeghnaparmar@gmail.com\n",
        "# then the username should be thakurmeghnaparmar\n",
        "\n",
        "s = input('enter the email')\n",
        "pos = s.index('@')\n",
        "print(s[0:pos])\n",
        "\n"
      ],
      "metadata": {
        "colab": {
          "base_uri": "https://localhost:8080/"
        },
        "id": "UO8q-n5rQ1_X",
        "outputId": "0b24cb2f-93b5-4981-d68c-cd4e6dee2637"
      },
      "execution_count": 3,
      "outputs": [
        {
          "output_type": "stream",
          "name": "stdout",
          "text": [
            "enter the emailthakurmeghnaparmar@gmail.com\n",
            "thakurmeghnaparmar\n"
          ]
        }
      ]
    },
    {
      "cell_type": "code",
      "source": [
        "# Count the frequency of a particular character in a provided string.\n",
        "# Eg 'hello how are you' is the string, the frequency of h in this string is 2.\n",
        "\n",
        "s = input('enter the email')\n",
        "term = input('what would like to search for')\n",
        "\n",
        "counter = 0\n",
        "for i in s:\n",
        "  if i == term:\n",
        "    counter +- 1\n",
        "    print('frequency',counter)\n"
      ],
      "metadata": {
        "colab": {
          "base_uri": "https://localhost:8080/"
        },
        "id": "ZXiIF7JFTVtC",
        "outputId": "b5f9f66d-4ad6-428f-aea2-403c9a1f8243"
      },
      "execution_count": 2,
      "outputs": [
        {
          "output_type": "stream",
          "name": "stdout",
          "text": [
            "enter the emailthakurmeghnaparmar\n",
            "what would like to search fora\n",
            "frequency 0\n",
            "frequency 0\n",
            "frequency 0\n",
            "frequency 0\n"
          ]
        }
      ]
    },
    {
      "cell_type": "code",
      "source": [
        "# Write a program which can remove a particular character from a string.\n",
        "s = input('enter the string')\n",
        "term = input('what would like to remove')\n",
        "\n",
        "result = ''\n",
        "for i in s:\n",
        "  if i !=term:\n",
        "    result = result + i\n",
        "print(result)"
      ],
      "metadata": {
        "colab": {
          "base_uri": "https://localhost:8080/"
        },
        "id": "I0zmHJXppDtS",
        "outputId": "b0194c70-8143-4afe-ad1b-b1876f0f54ae"
      },
      "execution_count": 3,
      "outputs": [
        {
          "output_type": "stream",
          "name": "stdout",
          "text": [
            "enter the stringmeghna\n",
            "what would like to removen\n",
            "megha\n"
          ]
        }
      ]
    },
    {
      "cell_type": "code",
      "source": [
        "# Write a program that can whether a given string is pallindrome or not.\n",
        "# abba\n",
        "# malayalam\n",
        "\n",
        "s = input('enter the string')\n",
        "flag = True\n",
        "for i in range(0,len(s)//2):\n",
        "  if s[i] != s[len(s)- i -1]:\n",
        "    flag = false\n",
        "    print('not a Palindrome')\n",
        "    break\n",
        "if flag:\n",
        "  print('Pallindrome')"
      ],
      "metadata": {
        "colab": {
          "base_uri": "https://localhost:8080/"
        },
        "id": "WLDdIdZvbX25",
        "outputId": "6608bd63-899a-4303-dc7f-dfd68fb9dec0"
      },
      "execution_count": 11,
      "outputs": [
        {
          "output_type": "stream",
          "name": "stdout",
          "text": [
            "enter the stringabba\n",
            "Pallindrome\n"
          ]
        }
      ]
    },
    {
      "cell_type": "code",
      "source": [
        "# Write a program to count the number of words in a string without split()\n",
        "\"hi how are you\".split()"
      ],
      "metadata": {
        "colab": {
          "base_uri": "https://localhost:8080/"
        },
        "id": "eJFm5X8dbqFJ",
        "outputId": "52b4456d-c04f-47a8-e03b-99b72b1f3fca"
      },
      "execution_count": 6,
      "outputs": [
        {
          "output_type": "execute_result",
          "data": {
            "text/plain": [
              "['hi', 'how', 'are', 'you']"
            ]
          },
          "metadata": {},
          "execution_count": 6
        }
      ]
    },
    {
      "cell_type": "code",
      "source": [
        "s = input('enter the string')\n",
        "temp = ''\n",
        "for i in s:\n",
        "  if i != ' ':\n",
        "    temp = temp + i\n",
        "  else:\n",
        "      L.append(temp)\n",
        "      temp = ''\n",
        "      print(L)"
      ],
      "metadata": {
        "colab": {
          "base_uri": "https://localhost:8080/"
        },
        "id": "zWvLvqKs6b2R",
        "outputId": "557277b0-6b0d-4fc0-abe0-51c9c4127a54"
      },
      "execution_count": 10,
      "outputs": [
        {
          "output_type": "stream",
          "name": "stdout",
          "text": [
            "enter the stringhi my name is meghna\n",
            "['Hi', 'My', 'Name', 'Is', 'Meghna', 'hi']\n",
            "['Hi', 'My', 'Name', 'Is', 'Meghna', 'hi', 'my']\n",
            "['Hi', 'My', 'Name', 'Is', 'Meghna', 'hi', 'my', 'name']\n",
            "['Hi', 'My', 'Name', 'Is', 'Meghna', 'hi', 'my', 'name', 'is']\n"
          ]
        }
      ]
    },
    {
      "cell_type": "code",
      "source": [
        "# Write a python program to convert a string to title case without using the title()\n",
        "s = input('enter the string')\n",
        "L = []\n",
        "for i in s.split():\n",
        "  L.append(i[0].upper() + i[1:].lower())\n",
        "\n",
        "  print(\" \".join(L))"
      ],
      "metadata": {
        "colab": {
          "base_uri": "https://localhost:8080/"
        },
        "id": "GHJPQUdyb2Q6",
        "outputId": "ed351d86-db85-4524-a043-97afdc458e11"
      },
      "execution_count": 4,
      "outputs": [
        {
          "output_type": "stream",
          "name": "stdout",
          "text": [
            "enter the stringhi my name is meghna\n",
            "Hi\n",
            "Hi My\n",
            "Hi My Name\n",
            "Hi My Name Is\n",
            "Hi My Name Is Meghna\n"
          ]
        }
      ]
    },
    {
      "cell_type": "code",
      "source": [
        "# Write a program  that can convert an integer to string.\n",
        "number = int(input('enter the number'))\n",
        "digits = '0123456789'\n",
        "result = ''\n",
        "while number != 0:\n",
        "  result = digits*(number % 10) + result\n",
        "  number = number//10\n",
        "  print(result)\n",
        "  print(type(result))"
      ],
      "metadata": {
        "colab": {
          "base_uri": "https://localhost:8080/"
        },
        "id": "6B1auCx87X8C",
        "outputId": "ab51b8f7-fb48-4060-f567-cd17109f4e4f"
      },
      "execution_count": 19,
      "outputs": [
        {
          "output_type": "stream",
          "name": "stdout",
          "text": [
            "enter the number345\n",
            "01234567890123456789012345678901234567890123456789\n",
            "<class 'str'>\n",
            "012345678901234567890123456789012345678901234567890123456789012345678901234567890123456789\n",
            "<class 'str'>\n",
            "012345678901234567890123456789012345678901234567890123456789012345678901234567890123456789012345678901234567890123456789\n",
            "<class 'str'>\n"
          ]
        }
      ]
    }
  ]
}